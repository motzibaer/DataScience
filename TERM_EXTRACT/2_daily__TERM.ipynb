{
 "cells": [
  {
   "cell_type": "markdown",
   "metadata": {},
   "source": [
    "# <font color = red> __daily 2:   \"TERMS\"__  </font> #"
   ]
  },
  {
   "cell_type": "markdown",
   "metadata": {},
   "source": [
    "###  <font color = grey>1/2: Eingabe von ZIELSPRACHE und AUFTRAGSNUMMER</font>"
   ]
  },
  {
   "cell_type": "code",
   "execution_count": 38,
   "metadata": {},
   "outputs": [
    {
     "name": "stdout",
     "output_type": "stream",
     "text": [
      "\n",
      "\n"
     ]
    },
    {
     "name": "stdin",
     "output_type": "stream",
     "text": [
      "Was ist die Zielsprache?\n",
      " en_us  ||  en_uk  ||  fr  ||  pl  ||  es  ||  nl  ||  ru  ||  it  ||  da  ||  bg  ||  cz  ||  hu  ||  pt  ||  ro  || sonst \n",
      " fr\n"
     ]
    },
    {
     "name": "stdout",
     "output_type": "stream",
     "text": [
      "\n",
      "\n"
     ]
    },
    {
     "name": "stdin",
     "output_type": "stream",
     "text": [
      "Wie lautet die Projektnummer?\n",
      " 5000\n"
     ]
    },
    {
     "name": "stdout",
     "output_type": "stream",
     "text": [
      "\n",
      "\n"
     ]
    }
   ],
   "source": [
    "print(\"\\n\")\n",
    "target_language = input(\"Was ist die Zielsprache?\\n en_us  ||  en_uk  ||  fr  ||  pl  ||  es  ||  nl  ||  ru  ||  it  ||  da  ||  bg  ||  cz  ||  hu  ||  pt  ||  ro  || sonst \\n\")\n",
    "print(\"\\n\")\n",
    "project = input(\"Wie lautet die Projektnummer?\\n\")\n",
    "print(\"\\n\")\n"
   ]
  },
  {
   "cell_type": "markdown",
   "metadata": {},
   "source": [
    "###  <font color = grey>2/2: Ausgabe von GESAMTAUFWAND TERMINOLOGIEARBEIT <font color = grey>"
   ]
  },
  {
   "cell_type": "code",
   "execution_count": 39,
   "metadata": {},
   "outputs": [
    {
     "name": "stdout",
     "output_type": "stream",
     "text": [
      "\n",
      "\n",
      "####################  Z U    V A L I D I E R E N  ############################\n",
      "\n",
      "\n",
      "9 Benennungen/Begriffe sind noch nicht Bestandteil der DB-Terminologie:\n",
      "\n",
      "\n",
      "['adaptionsverhalten', 'begriffssytem', 'datenbankstruktur', 'industrieforum', 'termextraktion', 'wissen', 'wissensorganisation', 'übersetzer', 'übersetzungsmanagement']\n",
      "\n",
      "\n",
      "\n",
      "\n",
      "###########  ZU    P R Ü F E N  /  V E R I F I Z I E R E N   #################\n",
      "\n",
      "\n",
      "7  Benennungen/Begriffe sind bereits in der DB-Terminologie: \n",
      "         - - - - - - - - - - - \n",
      "\n",
      "\n",
      "\t5   davon in der Zielsprache french (france) enthalten:    (= ZU PRÜFEN/VERIFIZIEREN)\n",
      "\n",
      "\n",
      "['ablaufberg', 'management', 'rotausleuchtung', 'schotterzwerg', 'übersetzung']\n",
      "\n",
      "\n",
      "         - - - - - - - - - - - \n",
      "\n",
      "\n",
      "\t2   davon NICHT in der Zielsprache french (france) enthalten:     (=ZU VERIFIZIEREN)\n",
      "\n",
      "\n",
      "['marketing', 'terminologiemanagement']\n"
     ]
    }
   ],
   "source": [
    "##################################################################### \n",
    "#                   RENAME LANGUAGE CODE IN VAR                     #\n",
    "#####################################################################\n",
    "if target_language == \"de\":\n",
    "    target_language = \"german (germany)\"\n",
    "if target_language == \"en_us\":\n",
    "    target_language = \"english (united states)\"\n",
    "if target_language == \"en_uk\":\n",
    "    target_language = \"english (united kingdom)\"\n",
    "if target_language == \"pl\":\n",
    "    target_language = \"polish (poland)\"\n",
    "if target_language == \"fr\":\n",
    "    target_language = \"french (france)\"\n",
    "if target_language == \"it\":\n",
    "    target_language = \"italian (italy)\"\n",
    "if target_language == \"es\":\n",
    "    target_language = \"spanish (spain, international sort)\"\n",
    "if target_language == \"ru\":\n",
    "    target_language = \"russian (russia)\"\n",
    "if target_language == \"da\":\n",
    "    target_language = \"danish (denmark)\"\n",
    "if target_language == \"pt\":\n",
    "    target_language = \"portuguese (brazil)\"\n",
    "if target_language == \"bg\":\n",
    "    target_language = \"bulgarian (bulgaria)\"\n",
    "if target_language == \"ro\":\n",
    "    target_language = \"romanian (romania)\"\n",
    "if target_language == \"cz\":\n",
    "    target_language = \"czech (czech republic)\"\n",
    "\n",
    "\n",
    "\n",
    "##################################################################### \n",
    "#                     UPDATE STOPPWORDLIST                          #\n",
    "#####################################################################\n",
    "term = open(\"Term_\" + project + \".txt\", \"r\", encoding = \"utf-8\")\n",
    "cand = open(\"Term_Candidates_\" + project+\".txt\", \"r\", encoding = \"utf-8\")\n",
    "stoppword = open(r\"C:\\Users\\TomWinter\\2021\\TERM\\SKRIPTE\\TERM_EXTRAKT\\STOPWORD\\STOPWORD.csv\", \"a\", encoding = \"utf-8\")\n",
    "\n",
    "cand_list = cand.read().split()\n",
    "term_list = term.read().split()\n",
    "\n",
    "list_not_term=[]\n",
    "for word in sorted(cand_list):\n",
    "    if not word in term_list:\n",
    "        list_not_term.append(word)\n",
    "\n",
    "for word in list_not_term:\n",
    "    stoppword.write(\"\\n\" + word)\n",
    "    \n",
    "term.close()\n",
    "cand.close()\n",
    "stoppword.close()\n",
    "        \n",
    "##################################################################### \n",
    "#                    COMPARISON WITH DB CL                          #\n",
    "#####################################################################\n",
    "\n",
    "### 3. comparison with lookup\n",
    "\n",
    "import pandas as pd\n",
    "### comparison \"Term_Candidates\" with LookUp            \n",
    "term = open(\"Term_\" + project + \".txt\", \"r\", encoding = \"utf-8\")\n",
    "\n",
    "term_cand = []\n",
    "for word in term.read().split():    \n",
    "    term_cand.append(word)\n",
    "\n",
    "#print(term_cand)\n",
    "\n",
    "df_lookup = pd.read_excel(r\"C:\\Users\\TomWinter\\2021\\TERM\\SKRIPTE\\TERM_EXTRAKT\\LookUP\\lookup.xlsx\", encoding = \"utf-8\")\n",
    "\n",
    "df_low = df_lookup.applymap(lambda s:s.lower() if type(s) == str else s)\n",
    "\n",
    "df_lookup_index = df_low.set_index(\"Wert\")\n",
    "\n",
    "#print(df_lookup_index.head())\n",
    "\n",
    "count_hit = 0\n",
    "count_non_hit = 0\n",
    "\n",
    "hit = []\n",
    "non_hit = []\n",
    "for word in term_cand:\n",
    "    if word in df_lookup_index.index:\n",
    "        if not word in hit:\n",
    "            count_hit = count_hit + 1\n",
    "            hit.append(word)\n",
    "    else:\n",
    "        non_hit.append(word)\n",
    "        count_non_hit = count_non_hit + 1\n",
    "        \n",
    "print(\"\\n\")\n",
    "print(\"####################  Z U    V A L I D I E R E N  ############################\")\n",
    "print(\"\\n\")\n",
    "print(str(count_non_hit) + \" Benennungen/Begriffe sind noch nicht Bestandteil der DB-Terminologie:\")\n",
    "print(\"\\n\")\n",
    "print(non_hit)\n",
    "print(\"\\n\")\n",
    "print(\"\\n\")\n",
    "print(\"###########  ZU    P R Ü F E N  /  V E R I F I Z I E R E N   #################\")    \n",
    "print(\"\\n\")\n",
    "print(str(count_hit) + \"  Benennungen/Begriffe sind bereits in der DB-Terminologie: \")\n",
    "\n",
    "\n",
    "#print(hit)\n",
    "#print(\"\\n\")\n",
    "\n",
    "target_lang = []\n",
    "no_target_lang = []\n",
    "\n",
    "count_target_lang = 0\n",
    "count_no_target_lang = 0\n",
    "\n",
    "for word in hit:\n",
    "    #check if language is in col \"Sprache\"\n",
    "    result = df_low.loc[df_low[\"Wert\"] == word]\n",
    "    result_id = result[\"Begriffsnummer\"]\n",
    "    for i in result_id:\n",
    "        df_hit = df_low.loc[df_low[\"Begriffsnummer\"] == i]\n",
    "        #print(df_hit)\n",
    "        df_hit_lang = df_hit.loc[df_hit[\"Sprache\"] == target_language]\n",
    "        #print(df_hit_lang)\n",
    "        if df_hit_lang.empty:\n",
    "            if not word in no_target_lang and not word in target_lang:\n",
    "                no_target_lang.append(word)\n",
    "                count_no_target_lang = count_no_target_lang+ 1\n",
    "        else:\n",
    "            if not word in target_lang and not word in no_target_lang:\n",
    "                target_lang.append(word)\n",
    "                count_target_lang = count_target_lang + 1\n",
    "\n",
    "\n",
    "print(\"         - - - - - - - - - - - \")       \n",
    "print(\"\\n\")\n",
    "print(\"\\t\" + str(count_target_lang) + \"   davon in der Zielsprache \" + target_language + \" enthalten:    (= ZU PRÜFEN/VERIFIZIEREN)\")\n",
    "print(\"\\n\")\n",
    "print(target_lang)\n",
    "print(\"\\n\")\n",
    "print(\"         - - - - - - - - - - - \")  \n",
    "print(\"\\n\")\n",
    "print(\"\\t\" + str(count_no_target_lang) + \"   davon NICHT in der Zielsprache \" + target_language + \" enthalten:     (=ZU VERIFIZIEREN)\")\n",
    "print(\"\\n\")\n",
    "print(no_target_lang)\n",
    "\n",
    "term.close()\n",
    "\n",
    "##################################################################### \n",
    "#                               AUSGABE                             #\n",
    "#####################################################################\n",
    "\n",
    "\n",
    "# Ausgabe: non_hit = validieren\n",
    "# Ausgabe: no_target_lang = verifizieren\n",
    "# Augabe: target_lang = prüfen/verifizieren\n",
    "\n",
    "\n"
   ]
  }
 ],
 "metadata": {
  "kernelspec": {
   "display_name": "Python 3",
   "language": "python",
   "name": "python3"
  },
  "language_info": {
   "codemirror_mode": {
    "name": "ipython",
    "version": 3
   },
   "file_extension": ".py",
   "mimetype": "text/x-python",
   "name": "python",
   "nbconvert_exporter": "python",
   "pygments_lexer": "ipython3",
   "version": "3.7.4"
  }
 },
 "nbformat": 4,
 "nbformat_minor": 4
}
